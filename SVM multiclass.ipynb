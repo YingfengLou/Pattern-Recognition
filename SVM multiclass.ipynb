{
 "cells": [
  {
   "cell_type": "markdown",
   "metadata": {},
   "source": [
    "### HW7"
   ]
  },
  {
   "cell_type": "markdown",
   "metadata": {},
   "source": [
    "Yingfeng Lou"
   ]
  },
  {
   "cell_type": "markdown",
   "metadata": {},
   "source": [
    "### (a) Download the Anuran Calls (MFCCs) Data Set. Choose 70% of the data randomly as the training set."
   ]
  },
  {
   "cell_type": "code",
   "execution_count": 60,
   "metadata": {},
   "outputs": [],
   "source": [
    "import pandas as pd\n",
    "import numpy as np\n",
    "from sklearn.model_selection import train_test_split\n",
    "from sklearn.svm import SVC\n",
    "from sklearn import svm\n",
    "from sklearn.svm import SVC\n",
    "from sklearn.svm import LinearSVC\n",
    "from sklearn.model_selection import KFold\n",
    "from sklearn.model_selection import GridSearchCV\n",
    "from sklearn.model_selection import cross_val_score\n",
    "from sklearn.metrics import hamming_loss,accuracy_score\n",
    "import matplotlib.pyplot as plt"
   ]
  },
  {
   "cell_type": "code",
   "execution_count": 61,
   "metadata": {},
   "outputs": [],
   "source": [
    "from imblearn.over_sampling import SMOTE"
   ]
  },
  {
   "cell_type": "code",
   "execution_count": 62,
   "metadata": {},
   "outputs": [],
   "source": [
    "import warnings\n",
    "warnings.filterwarnings('ignore') "
   ]
  },
  {
   "cell_type": "code",
   "execution_count": 107,
   "metadata": {},
   "outputs": [
    {
     "name": "stdout",
     "output_type": "stream",
     "text": [
      "size of data set (7195, 26)\n",
      "size of x_train (5036, 22)\n",
      "size of x_test (2159, 22)\n",
      "size of y_train (5036, 3)\n",
      "size of y_test (2159, 3)\n"
     ]
    }
   ],
   "source": [
    "df=pd.read_csv('C:/Users/hp/Desktop/EE559/HW/Homework 7 Data/Anuran Calls (MFCCs)/Frogs_MFCCs.csv')\n",
    "x,y=df.iloc[:,:22],df.iloc[:,22:-1]\n",
    "x_train,x_test,y_train,y_test=train_test_split(x,y,test_size=0.3,random_state=42)\n",
    "#print(df.shape)\n",
    "#print(x_test)\n",
    "print(\"size of data set\",df.shape)\n",
    "print(\"size of x_train\",x_train.shape)\n",
    "print(\"size of x_test\",x_test.shape)\n",
    "print(\"size of y_train\",y_train.shape)\n",
    "print(\"size of y_test\",y_test.shape)"
   ]
  },
  {
   "cell_type": "markdown",
   "metadata": {},
   "source": [
    "### (b) Each instance has three labels: Families, Genus, and Species. Each of the labels has multiple classes. We wish to solve a multi-class and multi-label problem. One of the most important approaches to multi-class classification is to train a classifier for each label. We first try this approach:"
   ]
  },
  {
   "cell_type": "markdown",
   "metadata": {},
   "source": [
    "### i. Research exact match and hamming score/ loss methods for evaluating multilabel classification and use them in evaluating the classifiers in this problem"
   ]
  },
  {
   "cell_type": "markdown",
   "metadata": {},
   "source": [
    "Accuracy score/ Exact match metric:calculates subset accuracy meaning the predicted set of labels should exactly match with the true set of labels. I can use function:metrics.accuracy_score(y_true, y_pred) to find the accuracy classification score.  \n",
    "Hamming loss: The fraction of the wrong labels to the total number of labels. I can use metrics.hamming_loss(y_true, y_pred) to compute the average Hamming loss."
   ]
  },
  {
   "cell_type": "markdown",
   "metadata": {},
   "source": [
    "### ii. Train a SVM for each of the labels, using Gaussian kernels and one versus all classifiers. Determine the weight of the SVM penalty and the width of the Gaussian Kernel using 10 fold cross validation. You are welcome to try to solve the problem with both normalized and raw attributes and report the results"
   ]
  },
  {
   "cell_type": "code",
   "execution_count": 16,
   "metadata": {},
   "outputs": [
    {
     "name": "stdout",
     "output_type": "stream",
     "text": [
      "the acc when C=10^(-3),lamda=-3 0.6102065131056394\n",
      "the acc when C=10^(3),lamda=3 1.0\n"
     ]
    }
   ],
   "source": [
    "y_train_family, y_train_genus, y_train_species=y_train[\"Family\"], y_train[\"Genus\"], y_train[\"Species\"]\n",
    "y_test_family, y_test_genus, y_test_species=y_test[\"Family\"], y_test[\"Genus\"], y_test[\"Species\"]\n",
    "\n",
    "svm=SVC(kernel='rbf',C=10**(-3)).fit(x_train,y_train_family)\n",
    "c=svm.score(x_train,y_train_family)\n",
    "print(\"the acc when C=10^(-3),lamda=-3\",c)\n",
    "svm=SVC(kernel='rbf',C=10**3).fit(x_train,y_train_family)\n",
    "c_1=svm.score(x_train,y_train_family)\n",
    "print(\"the acc when C=10^(3),lamda=3\",c_1)"
   ]
  },
  {
   "cell_type": "markdown",
   "metadata": {},
   "source": [
    "So I can choose lamda=[-3,3] i.e.C=[10^-3,10^3] to ensure the acc will not below 0.6102065131056394"
   ]
  },
  {
   "cell_type": "code",
   "execution_count": 9,
   "metadata": {},
   "outputs": [],
   "source": [
    "def SvmModel(x_train,y_train_label):\n",
    "    param = {'C':np.logspace(-3,3,7),'gamma':np.linspace(.1,2,10)}\n",
    "    svm=SVC(kernel='rbf')\n",
    "    svm_param=GridSearchCV(svm,param,cv=10)\n",
    "    svm_param.fit(x_train,y_train_label)\n",
    "    c=svm_param.best_params_['C']\n",
    "    gamma=svm_param.best_params_['gamma']\n",
    "    score=svm_param.best_score_        \n",
    "    return c, gamma, score"
   ]
  },
  {
   "cell_type": "code",
   "execution_count": 10,
   "metadata": {},
   "outputs": [
    {
     "name": "stdout",
     "output_type": "stream",
     "text": [
      "----------paramater of Family----------\n",
      "C_family= 10.0 gamma_family= 2.0 score_family= 0.9934480419072864\n",
      "----------paramater of Genus----------\n",
      "C_genus= 100.0 gamma_genus= 1.577777777777778 score_genus= 0.990864337782827\n",
      "----------paramater of Species----------\n",
      "C_species= 10.0 gamma_species= 1.788888888888889 score_species= 0.9904675123860013\n"
     ]
    }
   ],
   "source": [
    "y_train_family, y_train_genus, y_train_species=y_train[\"Family\"], y_train[\"Genus\"], y_train[\"Species\"]\n",
    "y_test_family, y_test_genus, y_test_species=y_test[\"Family\"], y_test[\"Genus\"], y_test[\"Species\"]\n",
    "\n",
    "c_family,gamma_family,score_family=SvmModel(x_train,y_train_family)\n",
    "print(\"----------paramater of Family----------\")\n",
    "print(\"C_family=\",c_family,\"gamma_family=\",gamma_family,\"score_family=\",score_family)\n",
    "#print(\"scorescore_family)\n",
    "c_genus,gamma_genus,score_genus=SvmModel(x_train,y_train_genus)\n",
    "print(\"----------paramater of Genus----------\")\n",
    "print(\"C_genus=\",c_genus,\"gamma_genus=\",gamma_genus,\"score_genus=\", score_genus)\n",
    "c_species,gamma_species,score_species=SvmModel(x_train,y_train_species)\n",
    "print(\"----------paramater of Species----------\")\n",
    "print(\"C_species=\",c_species,\"gamma_species=\",gamma_species,\"score_species=\", score_species)"
   ]
  },
  {
   "cell_type": "code",
   "execution_count": 11,
   "metadata": {},
   "outputs": [
    {
     "name": "stdout",
     "output_type": "stream",
     "text": [
      "----------Family---------\n",
      "hamming loss of Family: 0.006021306160259379\n",
      "exact match of Family: 0.9939786938397406\n",
      "----------Genus---------\n",
      "hamming loss of genus: 0.009263547938860583\n",
      "exact match of Genus: 0.9907364520611394\n",
      "----------Species---------\n",
      "hamming loss of species: 0.009726725335803613\n",
      "exact match of species: 0.9902732746641963\n"
     ]
    }
   ],
   "source": [
    "from sklearn.metrics import hamming_loss,accuracy_score\n",
    "\n",
    "svm_family=SVC(kernel='rbf',C=c_family,gamma=gamma_family).fit(x_train,y_train_family)\n",
    "y_predict_family=pd.Series(svm_family.predict(x_test))\n",
    "hamming_loss_family =hamming_loss(y_predict_family, y_test_family)\n",
    "exact_match_family= accuracy_score(y_test_family, y_predict_family)\n",
    "print(\"----------Family---------\")\n",
    "print(\"hamming loss of Family:\",hamming_loss_family)\n",
    "print(\"exact match of Family:\",exact_match_family)\n",
    "\n",
    "svm_genus=SVC(kernel='rbf',C=c_genus,gamma=gamma_genus).fit(x_train,y_train_genus)\n",
    "y_predict_genus=pd.Series(svm_genus.predict(x_test))\n",
    "hamming_loss_genus =hamming_loss(y_predict_genus, y_test_genus)\n",
    "exact_match_genus= accuracy_score(y_test_genus, y_predict_genus)\n",
    "print(\"----------Genus---------\")\n",
    "print(\"hamming loss of genus:\",hamming_loss_genus)\n",
    "print(\"exact match of Genus:\",exact_match_genus)\n",
    "\n",
    "svm_species=SVC(kernel='rbf',C=c_species,gamma=gamma_species).fit(x_train,y_train_species)\n",
    "y_predict_species=pd.Series(svm_species.predict(x_test))\n",
    "hamming_loss_species =hamming_loss(y_predict_species, y_test_species)\n",
    "exact_match_species= accuracy_score(y_test_species, y_predict_species)\n",
    "print(\"----------Species---------\")\n",
    "print(\"hamming loss of species:\",hamming_loss_species)\n",
    "print(\"exact match of species:\",exact_match_species)"
   ]
  },
  {
   "cell_type": "markdown",
   "metadata": {},
   "source": [
    "iii. Repeat 1(b)ii with L1-penalized SVMs. Remember to normalize the attributes."
   ]
  },
  {
   "cell_type": "markdown",
   "metadata": {},
   "source": [
    "The Dataset is already normalized, so I can use it directly."
   ]
  },
  {
   "cell_type": "code",
   "execution_count": 12,
   "metadata": {},
   "outputs": [],
   "source": [
    "from sklearn.svm import LinearSVC\n",
    "def Svm_L1(x_train,y_train_label):\n",
    "    param = {'C':np.logspace(-3,3,7)}\n",
    "    svm=LinearSVC(penalty='l1', dual=False,random_state=42)\n",
    "    svm_param=GridSearchCV(svm,param,cv=10)\n",
    "    svm_param.fit(x_train,y_train_label)\n",
    "    c=svm_param.best_params_['C']\n",
    "    score=svm_param.best_score_\n",
    "    return c, score"
   ]
  },
  {
   "cell_type": "code",
   "execution_count": 13,
   "metadata": {},
   "outputs": [
    {
     "name": "stdout",
     "output_type": "stream",
     "text": [
      "----------paramater of Family----------\n",
      "C_family= 100.0 score_family= 0.9408280475874911\n",
      "----------paramater of Genus----------\n",
      "C_genus= 100.0 score_genus= 0.9507565716810248\n",
      "----------paramater of Species----------\n",
      "C_species= 10.0 score_species= 0.959092666224873\n"
     ]
    }
   ],
   "source": [
    "c_family,score_family=Svm_L1(x_train,y_train_family)\n",
    "print(\"----------paramater of Family----------\")\n",
    "print(\"C_family=\",c_family,\"score_family=\",score_family)\n",
    "#print(\"scorescore_family)\n",
    "c_genus,score_genus=Svm_L1(x_train,y_train_genus)\n",
    "print(\"----------paramater of Genus----------\")\n",
    "print(\"C_genus=\",c_genus,\"score_genus=\", score_genus)\n",
    "c_species,score_species=Svm_L1(x_train,y_train_species)\n",
    "print(\"----------paramater of Species----------\")\n",
    "print(\"C_species=\",c_species,\"score_species=\", score_species)"
   ]
  },
  {
   "cell_type": "code",
   "execution_count": 15,
   "metadata": {},
   "outputs": [
    {
     "name": "stdout",
     "output_type": "stream",
     "text": [
      "----------Family---------\n",
      "hamming loss of Family: 0.07364520611394164\n",
      "exact match of Family: 0.9263547938860583\n",
      "----------Genus---------\n",
      "hamming loss of genus: 0.05974988420565076\n",
      "exact match of Genus: 0.9402501157943493\n",
      "----------Species---------\n",
      "hamming loss of species: 0.03844372394627142\n",
      "exact match of species: 0.9615562760537286\n"
     ]
    }
   ],
   "source": [
    "svm_family=LinearSVC(penalty='l1', dual=False,C=c_family).fit(x_train,y_train_family)\n",
    "y_predict_family=pd.Series(svm_family.predict(x_test))\n",
    "hamming_loss_family =hamming_loss(y_predict_family, y_test_family)\n",
    "exact_match_family= accuracy_score(y_test_family, y_predict_family)\n",
    "print(\"----------Family---------\")\n",
    "print(\"hamming loss of Family:\",hamming_loss_family)\n",
    "print(\"exact match of Family:\",exact_match_family)\n",
    "\n",
    "svm_genus=LinearSVC(penalty='l1', dual=False,C=c_genus).fit(x_train,y_train_genus)\n",
    "y_predict_genus=pd.Series(svm_genus.predict(x_test))\n",
    "hamming_loss_genus =hamming_loss(y_predict_genus, y_test_genus)\n",
    "exact_match_genus= accuracy_score(y_test_genus, y_predict_genus)\n",
    "print(\"----------Genus---------\")\n",
    "print(\"hamming loss of genus:\",hamming_loss_genus)\n",
    "print(\"exact match of Genus:\",exact_match_genus)\n",
    "\n",
    "svm_species=LinearSVC(penalty='l1', dual=False,C=c_species).fit(x_train,y_train_species)\n",
    "y_predict_species=pd.Series(svm_species.predict(x_test))\n",
    "hamming_loss_species =hamming_loss(y_predict_species, y_test_species)\n",
    "exact_match_species= accuracy_score(y_test_species, y_predict_species)\n",
    "print(\"----------Species---------\")\n",
    "print(\"hamming loss of species:\",hamming_loss_species)\n",
    "print(\"exact match of species:\",exact_match_species)"
   ]
  },
  {
   "cell_type": "markdown",
   "metadata": {},
   "source": [
    "iv. Repeat 1(b)iii by using SMOTE or any other method you know to remedy class imbalance. Report your conclusions about the classifiers you trained."
   ]
  },
  {
   "cell_type": "code",
   "execution_count": 5,
   "metadata": {},
   "outputs": [],
   "source": [
    "def Svm_Resample(x_train,y_train_label):\n",
    "    smo = SMOTE(random_state=42)\n",
    "    x_smo, y_smo = smo.fit_resample(x_train, y_train_label)\n",
    "    param = {'C':np.logspace(-3,3,7)}\n",
    "    svm=LinearSVC(penalty='l1', dual=False,random_state=42)\n",
    "    svm_param=GridSearchCV(svm,param,cv=10)\n",
    "    svm_param.fit(x_smo, y_smo)\n",
    "    c=svm_param.best_params_['C']\n",
    "    score=svm_param.best_score_\n",
    "    return c, score\n"
   ]
  },
  {
   "cell_type": "code",
   "execution_count": 6,
   "metadata": {
    "scrolled": true
   },
   "outputs": [
    {
     "name": "stdout",
     "output_type": "stream",
     "text": [
      "----------paramater of Family----------\n",
      "C_family= 10.0 score_family= 0.9503747511030847\n",
      "----------paramater of Genus----------\n",
      "C_genus= 100.0 score_genus= 0.9571408789460379\n",
      "----------paramater of Species----------\n",
      "C_species= 100.0 score_species= 0.961749080506743\n"
     ]
    }
   ],
   "source": [
    "y_train_family, y_train_genus, y_train_species=y_train[\"Family\"], y_train[\"Genus\"], y_train[\"Species\"]\n",
    "y_test_family, y_test_genus, y_test_species=y_test[\"Family\"], y_test[\"Genus\"], y_test[\"Species\"]\n",
    "\n",
    "c_family,score_family=Svm_Resample(x_train,y_train_family)\n",
    "print(\"----------paramater of Family----------\")\n",
    "print(\"C_family=\",c_family,\"score_family=\",score_family)\n",
    "#print(\"scorescore_family)\n",
    "c_genus,score_genus=Svm_Resample(x_train,y_train_genus)\n",
    "print(\"----------paramater of Genus----------\")\n",
    "print(\"C_genus=\",c_genus,\"score_genus=\", score_genus)\n",
    "c_species,score_species=Svm_Resample(x_train,y_train_species)\n",
    "print(\"----------paramater of Species----------\")\n",
    "print(\"C_species=\",c_species,\"score_species=\", score_species)\n",
    "\n"
   ]
  },
  {
   "cell_type": "code",
   "execution_count": 16,
   "metadata": {},
   "outputs": [
    {
     "name": "stdout",
     "output_type": "stream",
     "text": [
      "----------Family---------\n",
      "hamming loss of Family: 0.09078276980083372\n",
      "exact match of Family: 0.9092172301991662\n",
      "----------Genus---------\n",
      "hamming loss of genus: 0.09402501157943492\n",
      "exact match of Genus: 0.9059749884205651\n",
      "----------Species---------\n",
      "hamming loss of species: 0.03890690134321445\n",
      "exact match of species: 0.9610930986567855\n"
     ]
    }
   ],
   "source": [
    "from sklearn.metrics import hamming_loss,accuracy_score\n",
    "\n",
    "smo_f = SMOTE(random_state=42)\n",
    "x_smo_f, y_smo_f = smo_f.fit_resample(x_train, y_train_family)\n",
    "svm_family=LinearSVC(penalty='l1', dual=False,C=c_family).fit(x_smo_f,y_smo_f)\n",
    "y_predict_family=pd.Series(svm_family.predict(x_test))\n",
    "hamming_loss_family =hamming_loss(y_predict_family, y_test_family)\n",
    "exact_match_family= accuracy_score(y_test_family, y_predict_family)\n",
    "print(\"----------Family---------\")\n",
    "print(\"hamming loss of Family:\",hamming_loss_family)\n",
    "print(\"exact match of Family:\",exact_match_family)\n",
    "\n",
    "smo_g = SMOTE(random_state=42)\n",
    "x_smo_g, y_smo_g = smo_g.fit_resample(x_train, y_train_genus)\n",
    "svm_genus=LinearSVC(penalty='l1', dual=False,C=c_genus).fit(x_smo_g,y_smo_g)\n",
    "y_predict_genus=pd.Series(svm_genus.predict(x_test))\n",
    "hamming_loss_genus =hamming_loss(y_predict_genus, y_test_genus)\n",
    "exact_match_genus= accuracy_score(y_test_genus, y_predict_genus)\n",
    "print(\"----------Genus---------\")\n",
    "print(\"hamming loss of genus:\",hamming_loss_genus)\n",
    "print(\"exact match of Genus:\",exact_match_genus)\n",
    "\n",
    "smo_s = SMOTE(random_state=42)\n",
    "x_smo_s, y_smo_s = smo_s.fit_resample(x_train, y_train_species)\n",
    "svm_species=LinearSVC(penalty='l1', dual=False,C=c_species).fit(x_smo_s,y_smo_s)\n",
    "y_predict_species=pd.Series(svm_species.predict(x_test))\n",
    "hamming_loss_species =hamming_loss(y_predict_species, y_test_species)\n",
    "exact_match_species= accuracy_score(y_test_species, y_predict_species)\n",
    "print(\"----------Species---------\")\n",
    "print(\"hamming loss of species:\",hamming_loss_species)\n",
    "print(\"exact match of species:\",exact_match_species)\n",
    "\n"
   ]
  },
  {
   "cell_type": "markdown",
   "metadata": {},
   "source": [
    "Gaussian SVM:  \n",
    "Hamming loss of Family: 0.006021306160259379;exact match of Family: 0.9939786938397406  \n",
    "Hamming loss of genus: 0.009263547938860583;exact match of Genus: 0.9907364520611394  \n",
    "Hamming loss of species: 0.009726725335803613;exact match of species: 0.9902732746641963  \n",
    "  \n",
    "L1-penalized SVMs  \n",
    "amming loss of Family: 0.07364520611394164;exact match of Family: 0.9263547938860583  \n",
    "hamming loss of genus: 0.05974988420565076;exact match of Genus: 0.9402501157943493  \n",
    "hamming loss of species: 0.03844372394627142;exact match of species: 0.9615562760537286  \n",
    "  \n",
    "Using SMOTE  \n",
    "hamming loss of Family: 0.09078276980083372;exact match of Family: 0.9092172301991662  \n",
    "hamming loss of genus: 0.09402501157943492;exact match of Genus: 0.9059749884205651  \n",
    "hamming loss of species: 0.03890690134321445;exact match of species: 0.9610930986567855  \n",
    "  \n",
    "From above, the Gaussian SVM performs the best!  "
   ]
  }
 ],
 "metadata": {
  "kernelspec": {
   "display_name": "Python 3",
   "language": "python",
   "name": "python3"
  },
  "language_info": {
   "codemirror_mode": {
    "name": "ipython",
    "version": 3
   },
   "file_extension": ".py",
   "mimetype": "text/x-python",
   "name": "python",
   "nbconvert_exporter": "python",
   "pygments_lexer": "ipython3",
   "version": "3.6.4"
  }
 },
 "nbformat": 4,
 "nbformat_minor": 4
}
